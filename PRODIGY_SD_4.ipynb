{
  "nbformat": 4,
  "nbformat_minor": 0,
  "metadata": {
    "colab": {
      "provenance": [],
      "authorship_tag": "ABX9TyNC842HPkPZeDfVuMzHqkJp",
      "include_colab_link": true
    },
    "kernelspec": {
      "name": "python3",
      "display_name": "Python 3"
    },
    "language_info": {
      "name": "python"
    }
  },
  "cells": [
    {
      "cell_type": "markdown",
      "metadata": {
        "id": "view-in-github",
        "colab_type": "text"
      },
      "source": [
        "<a href=\"https://colab.research.google.com/github/pranav5960/PRODIGY_SD_04/blob/main/PRODIGY_SD_4.ipynb\" target=\"_parent\"><img src=\"https://colab.research.google.com/assets/colab-badge.svg\" alt=\"Open In Colab\"/></a>"
      ]
    },
    {
      "cell_type": "code",
      "execution_count": 1,
      "metadata": {
        "colab": {
          "base_uri": "https://localhost:8080/"
        },
        "id": "U-N5xU_01mPx",
        "outputId": "d9ed634f-95cf-46f6-c713-c1b556b414fc"
      },
      "outputs": [
        {
          "output_type": "stream",
          "name": "stdout",
          "text": [
            "Requirement already satisfied: beautifulsoup4 in /usr/local/lib/python3.10/dist-packages (4.12.3)\n",
            "Requirement already satisfied: requests in /usr/local/lib/python3.10/dist-packages (2.32.3)\n",
            "Requirement already satisfied: pandas in /usr/local/lib/python3.10/dist-packages (2.1.4)\n",
            "Requirement already satisfied: soupsieve>1.2 in /usr/local/lib/python3.10/dist-packages (from beautifulsoup4) (2.5)\n",
            "Requirement already satisfied: charset-normalizer<4,>=2 in /usr/local/lib/python3.10/dist-packages (from requests) (3.3.2)\n",
            "Requirement already satisfied: idna<4,>=2.5 in /usr/local/lib/python3.10/dist-packages (from requests) (3.7)\n",
            "Requirement already satisfied: urllib3<3,>=1.21.1 in /usr/local/lib/python3.10/dist-packages (from requests) (2.0.7)\n",
            "Requirement already satisfied: certifi>=2017.4.17 in /usr/local/lib/python3.10/dist-packages (from requests) (2024.7.4)\n",
            "Requirement already satisfied: numpy<2,>=1.22.4 in /usr/local/lib/python3.10/dist-packages (from pandas) (1.26.4)\n",
            "Requirement already satisfied: python-dateutil>=2.8.2 in /usr/local/lib/python3.10/dist-packages (from pandas) (2.8.2)\n",
            "Requirement already satisfied: pytz>=2020.1 in /usr/local/lib/python3.10/dist-packages (from pandas) (2024.1)\n",
            "Requirement already satisfied: tzdata>=2022.1 in /usr/local/lib/python3.10/dist-packages (from pandas) (2024.1)\n",
            "Requirement already satisfied: six>=1.5 in /usr/local/lib/python3.10/dist-packages (from python-dateutil>=2.8.2->pandas) (1.16.0)\n",
            "Product information extracted and saved to products.csv\n"
          ]
        }
      ],
      "source": [
        "!pip install beautifulsoup4 requests pandas\n",
        "\n",
        "import requests\n",
        "from bs4 import BeautifulSoup\n",
        "import pandas as pd\n",
        "\n",
        "# Choose the website and URL to scrape\n",
        "url = 'https://www.example.com/products'  # Replace with the actual URL\n",
        "\n",
        "# Send an HTTP request to the website\n",
        "response = requests.get(url)\n",
        "\n",
        "# Parse the HTML content using BeautifulSoup\n",
        "soup = BeautifulSoup(response.content, 'html.parser')\n",
        "\n",
        "# Find the elements containing product information\n",
        "product_listings = soup.find_all('div', class_='product-listing')  # Adjust the class name as needed\n",
        "\n",
        "# Extract the data\n",
        "products = []\n",
        "for listing in product_listings:\n",
        "  name = listing.find('h3', class_='product-name').text.strip()  # Adjust the class name as needed\n",
        "  price = listing.find('span', class_='price').text.strip()  # Adjust the class name as needed\n",
        "  rating = listing.find('div', class_='rating').text.strip()  # Adjust the class name as needed\n",
        "  products.append({'Name': name, 'Price': price, 'Rating': rating})\n",
        "\n",
        "# Create a Pandas DataFrame from the extracted data\n",
        "df = pd.DataFrame(products)\n",
        "\n",
        "# Save the data to a CSV file\n",
        "df.to_csv('products.csv', index=False)\n",
        "\n",
        "print('Product information extracted and saved to products.csv')\n"
      ]
    }
  ]
}